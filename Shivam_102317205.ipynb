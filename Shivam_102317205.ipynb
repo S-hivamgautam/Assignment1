{
 "cells": [
  {
   "cell_type": "code",
   "execution_count": 2,
   "id": "fa3a62d6-6429-44d4-bda6-d7032618d739",
   "metadata": {},
   "outputs": [
    {
     "name": "stdout",
     "output_type": "stream",
     "text": [
      " i am super hero\n"
     ]
    }
   ],
   "source": [
    "#1.1Write a Python program to print \"Anything You find cool.\"\n",
    "print(\" i am super hero\")"
   ]
  },
  {
   "cell_type": "code",
   "execution_count": 6,
   "id": "08420990-83ba-443e-9fa4-411d101ee7e6",
   "metadata": {},
   "outputs": [
    {
     "name": "stdout",
     "output_type": "stream",
     "text": [
      "990\n"
     ]
    }
   ],
   "source": [
    "#2.1 Write a program to add two numbers and print the result.\n",
    "a=990\n",
    "b=0\n",
    "print(a+b)"
   ]
  },
  {
   "cell_type": "code",
   "execution_count": 10,
   "id": "6aff4ad1-896b-46ba-9bd6-a1624e353a13",
   "metadata": {},
   "outputs": [
    {
     "name": "stdout",
     "output_type": "stream",
     "text": [
      "shivam\n"
     ]
    }
   ],
   "source": [
    "#2.2 Write a program to concatenate two strings and print the result.\n",
    "str1=\"shi\"\n",
    "str2=\"vam\"\n",
    "strfinal=str1+\"\"+str2\n",
    "print(strfinal)"
   ]
  },
  {
   "cell_type": "code",
   "execution_count": 12,
   "id": "7ccf0962-cb78-4843-b7d7-7e38b9589e21",
   "metadata": {},
   "outputs": [
    {
     "name": "stdout",
     "output_type": "stream",
     "text": [
      "ak47\n"
     ]
    }
   ],
   "source": [
    "# 2.3 Write a program to concatenate a string and a number and print the result.\n",
    "string=\"ak\"\n",
    "number=47\n",
    "print(string+ str(number))"
   ]
  },
  {
   "cell_type": "code",
   "execution_count": 14,
   "id": "587f768f-7b33-4716-a506-ce66a6be2d2c",
   "metadata": {},
   "outputs": [
    {
     "name": "stdin",
     "output_type": "stream",
     "text": [
      "please entr a val :  34\n"
     ]
    },
    {
     "name": "stdout",
     "output_type": "stream",
     "text": [
      "POSITIVE + \n"
     ]
    }
   ],
   "source": [
    "#3.1 Write a Python program to check if a number is positive, negative, or zero using an if-else statement.\n",
    "a=int(input(\"please entr a val : \"))\n",
    "if(a>0):\n",
    "  print(\"POSITIVE + \")\n",
    "elif(a<0):\n",
    "  print(\"NEGATIVE - \")\n",
    "else:\n",
    "  print(\"ZERO\")"
   ]
  },
  {
   "cell_type": "code",
   "execution_count": 16,
   "id": "fb657215-a8f1-44ba-9721-09b628957257",
   "metadata": {},
   "outputs": [
    {
     "name": "stdin",
     "output_type": "stream",
     "text": [
      "enter a val :  45\n"
     ]
    },
    {
     "name": "stdout",
     "output_type": "stream",
     "text": [
      "ODD\n"
     ]
    }
   ],
   "source": [
    "#3.2 Write a program to check if a given number is odd or even.\n",
    "a=int(input(\"enter a val : \"))\n",
    "if(a%2==0):\n",
    "  print(\"EVEN\")\n",
    "else:\n",
    "  print(\"ODD\")"
   ]
  },
  {
   "cell_type": "code",
   "execution_count": 18,
   "id": "8fe954a7-01a2-4103-b704-876f2e62a909",
   "metadata": {},
   "outputs": [
    {
     "name": "stdout",
     "output_type": "stream",
     "text": [
      "1\n",
      "2\n",
      "3\n",
      "4\n",
      "5\n",
      "6\n",
      "7\n",
      "8\n",
      "9\n",
      "10\n"
     ]
    }
   ],
   "source": [
    "#4.1 Write a program to print numbers from 1 to 10 using a for loop.\n",
    "for i in range (1,11):\n",
    "  print(i)"
   ]
  },
  {
   "cell_type": "code",
   "execution_count": 20,
   "id": "6188d3b9-a8c1-4e5b-9a35-eb1b7f603b54",
   "metadata": {},
   "outputs": [
    {
     "name": "stdout",
     "output_type": "stream",
     "text": [
      "1\n",
      "2\n",
      "3\n",
      "4\n",
      "5\n",
      "6\n",
      "7\n",
      "8\n",
      "9\n",
      "10\n"
     ]
    }
   ],
   "source": [
    "# 4.2 Write a program to print numbers from 1 to 10 using a while loop.\n",
    "i=1\n",
    "while(i<=10):\n",
    "  print(i)\n",
    "  i=i+1"
   ]
  },
  {
   "cell_type": "code",
   "execution_count": 22,
   "id": "100a3b78-0217-47b4-a173-a7dc103a9791",
   "metadata": {},
   "outputs": [
    {
     "name": "stdout",
     "output_type": "stream",
     "text": [
      "5050\n"
     ]
    }
   ],
   "source": [
    "# 4.3 Write a program to calculate the sum of numbers from 1 to 100 using a loop.\n",
    "sum=0\n",
    "for i in range(1,101):\n",
    "  sum=sum+i\n",
    "print(sum)"
   ]
  },
  {
   "cell_type": "code",
   "execution_count": 24,
   "id": "5921fd51-d8dd-4633-875c-4511c62cbdde",
   "metadata": {},
   "outputs": [
    {
     "name": "stdout",
     "output_type": "stream",
     "text": [
      "1\n",
      "500\n"
     ]
    }
   ],
   "source": [
    "# 5.1 Create a list of 5 numbers. Write a program to find the largest and smallest numbers in the list.\n",
    "list=[1,20,30,400,500]\n",
    "print(min(list))\n",
    "print(max(list))"
   ]
  },
  {
   "cell_type": "code",
   "execution_count": 28,
   "id": "6378af06-331e-42c0-99aa-053abc50d9c2",
   "metadata": {},
   "outputs": [
    {
     "name": "stdout",
     "output_type": "stream",
     "text": [
      "Shivam\n",
      "c\n",
      "bum\n"
     ]
    }
   ],
   "source": [
    "# 5.2 Create a dictionary with at least 3 key-value pairs. Write a program to retrieve the value of a given key\n",
    "dict = {\n",
    "    \"name1\":\"Shivam\",\n",
    "    \"name2\":\"c\",\n",
    "    \"name3\":\"bum\",\n",
    "}\n",
    "\n",
    "print(dict[\"name1\"])\n",
    "print(dict[\"name2\"])\n",
    "print(dict[\"name3\"])"
   ]
  },
  {
   "cell_type": "code",
   "execution_count": 30,
   "id": "86e9f922-d9b5-42c1-9848-da572cf58123",
   "metadata": {},
   "outputs": [
    {
     "name": "stdout",
     "output_type": "stream",
     "text": [
      "[2, 3, 56, 139, 241, 546, 849]\n",
      "[849, 546, 241, 139, 56, 3, 2]\n"
     ]
    }
   ],
   "source": [
    "# 5.3 Write a program to sort a list of numbers in ascending and descending order.\n",
    "list=[2,3,56,241,139,546,849]\n",
    "list.sort()\n",
    "print(list)\n",
    "list.reverse()\n",
    "print(list)"
   ]
  },
  {
   "cell_type": "code",
   "execution_count": 32,
   "id": "423dc0c0-4b10-4c6a-8fd5-b4c2ad4ec0c5",
   "metadata": {},
   "outputs": [
    {
     "name": "stdout",
     "output_type": "stream",
     "text": [
      "{'name': 'shivam', 'rollno': 102317205, 'branch': 'CSE', 'college': 'TIET'}\n"
     ]
    }
   ],
   "source": [
    "# 5.4 Write a program to merge two dictionaries into one.\n",
    "def merge(dict1,dict2):\n",
    "  final_dict=dict1.copy()\n",
    "  final_dict.update(dict2)\n",
    "  return final_dict\n",
    "dict1={\n",
    "    \"name\":\"shivam\",\n",
    "    \"rollno\":102317205,\n",
    "}\n",
    "dict2={\n",
    "    \"branch\":\"CSE\",\n",
    "    \"college\":\"TIET\",\n",
    "}\n",
    "final_dict=merge(dict1,dict2)\n",
    "print(final_dict)"
   ]
  },
  {
   "cell_type": "code",
   "execution_count": 34,
   "id": "58718ce6-9688-469e-bde2-6831d883a5fd",
   "metadata": {},
   "outputs": [
    {
     "name": "stdin",
     "output_type": "stream",
     "text": [
      "enter a string :  fgy\n"
     ]
    },
    {
     "name": "stdout",
     "output_type": "stream",
     "text": [
      "0\n"
     ]
    }
   ],
   "source": [
    "# 6.1 Write a program to count the number of vowels in a given string.\n",
    "string=input(\"enter a string : \")\n",
    "length=len(string)\n",
    "count=0\n",
    "for i in range(0,length):\n",
    "  if(string[i]==\"a\" or string[i]==\"e\" or string[i]==\"i\" or string[i]==\"o\" or string[i]==\"u\"):\n",
    "    count=count+1\n",
    "print(count)"
   ]
  },
  {
   "cell_type": "code",
   "execution_count": 36,
   "id": "2e3b8853-2e55-4bce-a2cf-fb7f6189a4dc",
   "metadata": {},
   "outputs": [
    {
     "name": "stdin",
     "output_type": "stream",
     "text": [
      "enter string :  ghighgf\n"
     ]
    },
    {
     "name": "stdout",
     "output_type": "stream",
     "text": [
      "fghgihg\n"
     ]
    }
   ],
   "source": [
    "# 6.2 Write a program to reverse a string and print it.\n",
    "def rev(s):\n",
    "  return s[::-1]\n",
    "\n",
    "input_string=input(\"enter string : \")\n",
    "reversed_string=rev(input_string)\n",
    "print(reversed_string)\n",
    "\n"
   ]
  },
  {
   "cell_type": "code",
   "execution_count": 38,
   "id": "05849741-5e97-426a-b412-0a27377a6648",
   "metadata": {},
   "outputs": [
    {
     "name": "stdin",
     "output_type": "stream",
     "text": [
      "enter string :  hum\n"
     ]
    },
    {
     "name": "stdout",
     "output_type": "stream",
     "text": [
      "NOT A PALLINDROME\n"
     ]
    }
   ],
   "source": [
    "# 6.3 Write a program to check if a string is a palindrome.\n",
    "def rev(s):\n",
    "  return s[::-1]\n",
    "input_string=input(\"enter string : \")\n",
    "reversed_string=rev(input_string)\n",
    "if(input_string==reversed_string):\n",
    "  print(\"PALLINDROME\")\n",
    "else:\n",
    "  print(\"NOT A PALLINDROME\")"
   ]
  },
  {
   "cell_type": "code",
   "execution_count": null,
   "id": "4e0d240d-e2ed-4423-aca8-7f7a086317ee",
   "metadata": {},
   "outputs": [],
   "source": [
    "#7.1 Write a program to create a text file, write some text into it, and then read and print the content.\n",
    "f=open(\"/content/new7.txt\",\"w\")\n",
    "f.write(\"welcome to python\")\n",
    "f.close()\n",
    "f=open(\"/content/new7.txt\",\"r\")\n",
    "data=f.read()\n",
    "print(data)\n",
    "f.close()"
   ]
  },
  {
   "cell_type": "code",
   "execution_count": null,
   "id": "6a0b6881-8139-46a5-b3db-9c94c232fd90",
   "metadata": {},
   "outputs": [],
   "source": [
    "#7.2 Write a program to append text to an existing file and print the updated content\n",
    "f=open(\"/sample.txt\",\"r+\")\n",
    "f.write(\"python world\")\n",
    "f.seek(0)\n",
    "data=f.read()\n",
    "print(data)\n",
    "f.close()"
   ]
  },
  {
   "cell_type": "code",
   "execution_count": null,
   "id": "70901236-ba3b-4d4c-acc3-5e09fc342eeb",
   "metadata": {},
   "outputs": [],
   "source": [
    "# 7.3 Write a program to count the number of lines in a text file.\n",
    "f=open(\"/sample.txt\",\"r+\")\n",
    "lines=f.readlines()\n",
    "print(len(lines))"
   ]
  },
  {
   "cell_type": "code",
   "execution_count": 46,
   "id": "998c59f9-29a4-4a02-9c43-50d866769b3a",
   "metadata": {},
   "outputs": [
    {
     "name": "stdin",
     "output_type": "stream",
     "text": [
      "enter numerator :  45\n",
      "enter denominator :  45\n"
     ]
    },
    {
     "name": "stdout",
     "output_type": "stream",
     "text": [
      "1.0\n"
     ]
    }
   ],
   "source": [
    "# 8.1 Write a program to handle division by zero using a try-except block.\n",
    "try:\n",
    "  a=int(input(\"enter numerator : \"))\n",
    "  b=int(input(\"enter denominator : \"))\n",
    "  result=a/b\n",
    "  print(result)\n",
    "except:\n",
    "  print(\"NOT VALID\")"
   ]
  },
  {
   "cell_type": "code",
   "execution_count": 48,
   "id": "52fcf23d-a2df-4395-bb69-4fc86740eecf",
   "metadata": {},
   "outputs": [
    {
     "name": "stdin",
     "output_type": "stream",
     "text": [
      "entr val :  4\n"
     ]
    },
    {
     "name": "stdout",
     "output_type": "stream",
     "text": [
      "VALID\n"
     ]
    }
   ],
   "source": [
    "# 8.2 Write a program to handle invalid input (e.g., when the user enters a string instead of a number).\n",
    "try:\n",
    "  a=int(input(\"entr val : \"))\n",
    "  print(\"VALID\")\n",
    "except:\n",
    "  print(\"INVALID\")"
   ]
  },
  {
   "cell_type": "code",
   "execution_count": 50,
   "id": "a7c7686e-d89d-4875-bc98-7cdb33506710",
   "metadata": {},
   "outputs": [
    {
     "name": "stdout",
     "output_type": "stream",
     "text": [
      "5.0\n",
      "code succesfully executed\n",
      "NOT VALID\n",
      "code succesfully executed\n"
     ]
    }
   ],
   "source": [
    "# 8.3 Write a program to demonstrate the use of finally in exception handling.\n",
    "def divide(a,b):\n",
    "  try:\n",
    "    print(a/b)\n",
    "  except:\n",
    "    print(\"NOT VALID\")\n",
    "  finally:\n",
    "    print(\"code succesfully executed\")\n",
    "divide(10,2)\n",
    "divide(10,0)"
   ]
  },
  {
   "cell_type": "code",
   "execution_count": 54,
   "id": "c3bf47a7-5a97-4f80-ba62-979c75a704e6",
   "metadata": {},
   "outputs": [
    {
     "name": "stdout",
     "output_type": "stream",
     "text": [
      "38\n",
      "66\n",
      "38\n",
      "51\n"
     ]
    }
   ],
   "source": [
    "#9.1 Write a program to generate 5 random numbers between 1 and 100 and print them.\n",
    "import random as r\n",
    "for i in range(1,5):\n",
    "  print(r.randint(1,100))"
   ]
  },
  {
   "cell_type": "code",
   "execution_count": 52,
   "id": "bd0d38fc-1667-415a-ada3-c8257b153806",
   "metadata": {},
   "outputs": [
    {
     "name": "stdout",
     "output_type": "stream",
     "text": [
      "1476\n"
     ]
    },
    {
     "data": {
      "text/plain": [
       "False"
      ]
     },
     "execution_count": 52,
     "metadata": {},
     "output_type": "execute_result"
    }
   ],
   "source": [
    "#9.2 Write a program to generate a random number and check if it is prime.\n",
    "import random as r\n",
    "a=r.randint(1,1900)\n",
    "print(a)\n",
    "import sympy as s\n",
    "s.isprime(a)"
   ]
  },
  {
   "cell_type": "code",
   "execution_count": 56,
   "id": "7528d866-9209-4151-bf0c-1ddd05c30516",
   "metadata": {},
   "outputs": [
    {
     "name": "stdout",
     "output_type": "stream",
     "text": [
      "5\n"
     ]
    }
   ],
   "source": [
    "#9.3 Write a program to simulate rolling a six-sided die.\n",
    "import random as r\n",
    "roll=r.randint(1,6)\n",
    "print(roll)"
   ]
  },
  {
   "cell_type": "code",
   "execution_count": 62,
   "id": "4fdf0623-f3ea-406a-8846-2671039ac1ad",
   "metadata": {},
   "outputs": [
    {
     "name": "stdout",
     "output_type": "stream",
     "text": [
      "[4, 5, 6, 7, 8, 9]\n",
      "[4, 7, 9, 5, 6, 8]\n"
     ]
    }
   ],
   "source": [
    "#9.4 Write a program to shuffle a list of numbers.\n",
    "import random as r\n",
    "list=[4,5,6,7,8,9]\n",
    "print(list)\n",
    "r.shuffle(list)\n",
    "print(list)"
   ]
  },
  {
   "cell_type": "code",
   "execution_count": 64,
   "id": "2affb68c-5db8-489d-96d8-b1ba06ac7802",
   "metadata": {},
   "outputs": [
    {
     "name": "stdout",
     "output_type": "stream",
     "text": [
      "5\n"
     ]
    }
   ],
   "source": [
    "#9.5 Write a program to randomly select an item from a list.\n",
    "import random as r\n",
    "list=[4,5,6,7,8,9]\n",
    "a=r.choice(list)\n",
    "print(a)"
   ]
  },
  {
   "cell_type": "code",
   "execution_count": 67,
   "id": "7976dde8-1865-468c-b545-3ecdeb370cab",
   "metadata": {},
   "outputs": [
    {
     "name": "stdin",
     "output_type": "stream",
     "text": [
      "enter len :  45\n"
     ]
    },
    {
     "name": "stdout",
     "output_type": "stream",
     "text": [
      "mozdjkpysuvgvprvlfypxchcyxjhbwpawlurtpflqxlpo\n"
     ]
    }
   ],
   "source": [
    "#9.6 Write a program to generate a random password of given length.\n",
    "import random as r\n",
    "len=int(input(\"enter len : \"))\n",
    "characters=\"abcdefghijklmnopqrstuvwxyz\"\n",
    "password=\"\".join(r.choice(characters) for i in range(len))\n",
    "print(password)"
   ]
  },
  {
   "cell_type": "code",
   "execution_count": 69,
   "id": "ed5d74e0-26cb-473f-b8aa-a6cd1bf284ab",
   "metadata": {},
   "outputs": [
    {
     "name": "stdout",
     "output_type": "stream",
     "text": [
      "Hearts Jack\n"
     ]
    }
   ],
   "source": [
    "#9.7 Write a program to pick a random card from a standard deck of 52 cards.\n",
    "import random as r\n",
    "suits = [\"Hearts\", \"Diamonds\", \"Clubs\", \"Spades\"]\n",
    "ranks = [\"2\", \"3\", \"4\", \"5\", \"6\", \"7\", \"8\", \"9\", \"10\", \"Jack\", \"Queen\", \"King\", \"Ace\"]\n",
    "\n",
    "rsuit=r.choice(suits)\n",
    "rranks=r.choice(ranks)\n",
    "card=rsuit+ \" \"+rranks\n",
    "print(card)"
   ]
  },
  {
   "cell_type": "code",
   "execution_count": null,
   "id": "885003a2-75eb-489a-b6c6-0a9262885665",
   "metadata": {},
   "outputs": [],
   "source": [
    "# 10.2 Write a program to accept a string as a command-line argument and print its length.\n",
    "import argparse\n",
    "\n",
    "# Initialize parser\n",
    "parser = argparse.ArgumentParser()\n",
    "\n",
    "# Add argument for the string\n",
    "parser.add_argument(\"string\", type=str, help=\"Input string\")\n",
    "\n",
    "# Parse the arguments\n",
    "args = parser.parse_args()\n",
    "\n",
    "# Get the string and print its length\n",
    "input_string = args.string\n",
    "string_length = len(input_string)\n",
    "print(\"Length of the string:\", string_length)"
   ]
  },
  {
   "cell_type": "code",
   "execution_count": null,
   "id": "df9b50eb-ec66-4ed5-9162-ac27f6783153",
   "metadata": {},
   "outputs": [],
   "source": [
    "#10.1 Write a program to accept two numbers as command-line arguments, add them, and print the result.\n",
    "# Python program to demonstrate\n",
    "# command line arguments\n",
    "\n",
    "\n",
    "import argparse\n",
    "\n",
    "# Initialize parser\n",
    "parser = argparse.ArgumentParser()\n",
    "# Add arguments for two numbers\n",
    "parser.add_argument(\"num1\", type=int, help=\"First number\")\n",
    "parser.add_argument(\"num2\", type=int, help=\"Second number\")\n",
    "\n",
    "# Parse the arguments\n",
    "args = parser.parse_args()\n",
    "\n",
    "# Calculate and print the sum\n",
    "result = args.num1 + args.num2\n",
    "print(\"Sum:\", result)"
   ]
  },
  {
   "cell_type": "code",
   "execution_count": 73,
   "id": "1fdc0404-bb31-4bf6-bb9c-c8d324964fd3",
   "metadata": {},
   "outputs": [
    {
     "name": "stdin",
     "output_type": "stream",
     "text": [
      "entr a val :  345\n"
     ]
    },
    {
     "data": {
      "text/plain": [
       "18.57417562100671"
      ]
     },
     "execution_count": 73,
     "metadata": {},
     "output_type": "execute_result"
    }
   ],
   "source": [
    "# 11.1 Write a program to use the math library to calculate the square root of a given number.\n",
    "import math as m\n",
    "a=int(input(\"entr a val : \"))\n",
    "m.sqrt(a)"
   ]
  },
  {
   "cell_type": "code",
   "execution_count": null,
   "id": "7e095bc0-1675-470e-becd-7a46317138f4",
   "metadata": {},
   "outputs": [],
   "source": [
    "#  11.2 Write a program to use the datetime library to print the current date and time.\n",
    "import datetime as dt\n",
    "print(dt.date.today())\n",
    "print(dt.datetime.now().time())\n",
    "# google backend is showing coordinated universal time"
   ]
  },
  {
   "cell_type": "code",
   "execution_count": null,
   "id": "075197d7-4bbe-49b1-85b5-a7faa16eb938",
   "metadata": {},
   "outputs": [],
   "source": [
    "# 11.3 Write a program to use the os library to list all files in the current directory\n",
    "import os as o\n",
    "currentdr=o.getcwd()\n",
    "allfiles=o.listdir(currentdr)\n",
    "print(allfiles)"
   ]
  }
 ],
 "metadata": {
  "kernelspec": {
   "display_name": "Python 3 (ipykernel)",
   "language": "python",
   "name": "python3"
  },
  "language_info": {
   "codemirror_mode": {
    "name": "ipython",
    "version": 3
   },
   "file_extension": ".py",
   "mimetype": "text/x-python",
   "name": "python",
   "nbconvert_exporter": "python",
   "pygments_lexer": "ipython3",
   "version": "3.12.4"
  }
 },
 "nbformat": 4,
 "nbformat_minor": 5
}
