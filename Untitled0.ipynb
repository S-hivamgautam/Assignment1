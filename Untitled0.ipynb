{
  "nbformat": 4,
  "nbformat_minor": 0,
  "metadata": {
    "colab": {
      "provenance": [],
      "authorship_tag": "ABX9TyNj0j4T5fapvg3sdTrzkmVx",
      "include_colab_link": true
    },
    "kernelspec": {
      "name": "python3",
      "display_name": "Python 3"
    },
    "language_info": {
      "name": "python"
    }
  },
  "cells": [
    {
      "cell_type": "markdown",
      "metadata": {
        "id": "view-in-github",
        "colab_type": "text"
      },
      "source": [
        "<a href=\"https://colab.research.google.com/github/S-hivamgautam/Assignment1/blob/main/Untitled0.ipynb\" target=\"_parent\"><img src=\"https://colab.research.google.com/assets/colab-badge.svg\" alt=\"Open In Colab\"/></a>"
      ]
    },
    {
      "cell_type": "code",
      "source": [
        "# 1. Create a List L that is defined as= [10, 20, 30, 40, 50, 60, 70, 80].\n",
        "# i. WAP to add 200 and 300 to L.\n",
        "L = [10, 20, 30, 40, 50, 60, 70, 80]\n",
        "L.append(200)\n",
        "L.append(300)\n",
        "print(L)"
      ],
      "metadata": {
        "colab": {
          "base_uri": "https://localhost:8080/"
        },
        "id": "lPWCPA_biF5z",
        "outputId": "cac2e9c9-c5a8-4571-a7c0-25ab891845e7"
      },
      "execution_count": 1,
      "outputs": [
        {
          "output_type": "stream",
          "name": "stdout",
          "text": [
            "[10, 20, 30, 40, 50, 60, 70, 80, 200, 300]\n"
          ]
        }
      ]
    },
    {
      "cell_type": "code",
      "source": [
        "# ii. WAP to remove 10 and 30 from L\n",
        "L.remove(10)\n",
        "L.remove(30)\n",
        "print(L)"
      ],
      "metadata": {
        "colab": {
          "base_uri": "https://localhost:8080/"
        },
        "id": "sBi0wjjWiOsL",
        "outputId": "049b1acc-0d2a-41a3-b216-c73db230982b"
      },
      "execution_count": 2,
      "outputs": [
        {
          "output_type": "stream",
          "name": "stdout",
          "text": [
            "[20, 40, 50, 60, 70, 80, 200, 300]\n"
          ]
        }
      ]
    },
    {
      "cell_type": "code",
      "source": [
        "# iii. WAP to sort L in ascending order\n",
        "L.sort()\n",
        "print(L)"
      ],
      "metadata": {
        "colab": {
          "base_uri": "https://localhost:8080/"
        },
        "id": "521cL6BGixt3",
        "outputId": "3d98967e-80c0-4da4-ab6a-e5e250659f6b"
      },
      "execution_count": 3,
      "outputs": [
        {
          "output_type": "stream",
          "name": "stdout",
          "text": [
            "[20, 40, 50, 60, 70, 80, 200, 300]\n"
          ]
        }
      ]
    },
    {
      "cell_type": "code",
      "source": [
        "# iv. WAP to sort L in descending order.\n",
        "L.sort(reverse=True)\n",
        "print(L)"
      ],
      "metadata": {
        "colab": {
          "base_uri": "https://localhost:8080/"
        },
        "id": "Pjdl_PIkjDnj",
        "outputId": "92db3a84-0a34-4106-92ea-7d0d2c1c8a78"
      },
      "execution_count": 4,
      "outputs": [
        {
          "output_type": "stream",
          "name": "stdout",
          "text": [
            "[300, 200, 80, 70, 60, 50, 40, 20]\n"
          ]
        }
      ]
    },
    {
      "cell_type": "code",
      "source": [
        "# 2. Create a tuple of marks scored as scores = (45, 89.5, 76, 45.4, 89, 92, 58, 45) and perform the following operations using tuple functions:\n",
        "# i. Identify the highest score and its index in the tuple.\n",
        "scores = (45, 89.5, 76, 45.4, 89, 92, 58, 45)\n",
        "highest_score = max(scores)\n",
        "index_of_highest = scores.index(highest_score)\n",
        "print(f\"The highest score is {highest_score} at index {index_of_highest}.\")"
      ],
      "metadata": {
        "colab": {
          "base_uri": "https://localhost:8080/"
        },
        "id": "1aep1cMXjRFK",
        "outputId": "12eeacc3-adfa-49fa-b99e-917b11001a86"
      },
      "execution_count": 5,
      "outputs": [
        {
          "output_type": "stream",
          "name": "stdout",
          "text": [
            "The highest score is 92 at index 5.\n"
          ]
        }
      ]
    },
    {
      "cell_type": "code",
      "source": [
        "# ii. Find the lowest score and count how many times it appears.\n",
        "lowest_score = min(scores)\n",
        "count_of_lowest = scores.count(lowest_score)\n",
        "print(f\"The lowest score is {lowest_score} and it appears {count_of_lowest} times.\")"
      ],
      "metadata": {
        "colab": {
          "base_uri": "https://localhost:8080/"
        },
        "id": "wF7vK1gOjvyl",
        "outputId": "68c9eef1-2f1b-42de-d528-751ed6aab7aa"
      },
      "execution_count": 6,
      "outputs": [
        {
          "output_type": "stream",
          "name": "stdout",
          "text": [
            "The lowest score is 45 and it appears 2 times.\n"
          ]
        }
      ]
    },
    {
      "cell_type": "code",
      "source": [
        "# iii. Reverse the tuple and return as a list\n",
        "reversed_tuple = list(scores[::-1])\n",
        "print(f\"The reversed tuple as a list is: {reversed_tuple}\")\n"
      ],
      "metadata": {
        "colab": {
          "base_uri": "https://localhost:8080/"
        },
        "id": "tAORQAD6j6Tp",
        "outputId": "a4d5678c-53f2-4224-9e12-7a2718e12645"
      },
      "execution_count": 7,
      "outputs": [
        {
          "output_type": "stream",
          "name": "stdout",
          "text": [
            "The reversed tuple as a list is: [45, 58, 92, 89, 45.4, 76, 89.5, 45]\n"
          ]
        }
      ]
    },
    {
      "cell_type": "code",
      "source": [
        "# iv. Check if a specific score is present and return its index\n",
        "user_score = float(input(\"Enter a score to check: \"))\n",
        "if user_score in scores:\n",
        "    index_of_score = scores.index(user_score)\n",
        "    print(f\"The score {user_score} is present at index {index_of_score}.\")\n",
        "else:\n",
        "    print(f\"The score {user_score} is not present in the tuple.\")"
      ],
      "metadata": {
        "colab": {
          "base_uri": "https://localhost:8080/"
        },
        "id": "gPbxqr1rj_eV",
        "outputId": "26c93ddf-d93c-4f79-bb19-45edcdc42169"
      },
      "execution_count": 8,
      "outputs": [
        {
          "output_type": "stream",
          "name": "stdout",
          "text": [
            "Enter a score to check: 58\n",
            "The score 58.0 is present at index 6.\n"
          ]
        }
      ]
    },
    {
      "cell_type": "code",
      "source": [
        "# 3. WAP to create a list of 100 random numbers between 100 and 900. Count and print the:\n",
        "# i. All odd numbers\n",
        "# ii. All even numbers\n",
        "# iii. All prime numbers\n",
        "import random\n",
        "def is_prime(n):\n",
        "    if n <= 1:\n",
        "        return False\n",
        "    for i in range(2, int(n ** 0.5) + 1):\n",
        "        if n % i == 0:\n",
        "            return False\n",
        "    return True\n",
        "random_numbers = [random.randint(100, 900) for _ in range(100)]\n",
        "odd_numbers = []\n",
        "even_numbers = []\n",
        "prime_numbers = []\n",
        "for num in random_numbers:\n",
        "    if num % 2 == 0:\n",
        "        even_numbers.append(num)\n",
        "    else:\n",
        "        odd_numbers.append(num)\n",
        "\n",
        "    if is_prime(num):\n",
        "        prime_numbers.append(num)\n",
        "print(f\"All odd numbers: {odd_numbers}\")\n",
        "print(f\"Total odd numbers: {len(odd_numbers)}\")\n",
        "\n",
        "print(f\"All even numbers: {even_numbers}\")\n",
        "print(f\"Total even numbers: {len(even_numbers)}\")\n",
        "\n",
        "print(f\"All prime numbers: {prime_numbers}\")\n",
        "print(f\"Total prime numbers: {len(prime_numbers)}\")\n"
      ],
      "metadata": {
        "colab": {
          "base_uri": "https://localhost:8080/"
        },
        "id": "Fd55lRRbkGRu",
        "outputId": "6bcbac52-c233-4556-a105-582693969f20"
      },
      "execution_count": 9,
      "outputs": [
        {
          "output_type": "stream",
          "name": "stdout",
          "text": [
            "All odd numbers: [125, 201, 693, 391, 537, 617, 637, 649, 559, 709, 351, 879, 463, 833, 153, 779, 671, 467, 231, 715, 551, 863, 301, 153, 345, 677, 545, 755, 197, 609, 705, 667, 435, 377, 105, 513, 805, 717, 607, 237, 341, 763, 623, 357, 405, 557, 859, 155]\n",
            "Total odd numbers: 48\n",
            "All even numbers: [488, 504, 600, 716, 424, 658, 144, 684, 234, 888, 102, 462, 396, 838, 508, 836, 180, 836, 312, 328, 712, 700, 214, 846, 748, 284, 342, 842, 426, 204, 596, 298, 128, 150, 782, 338, 192, 244, 416, 244, 740, 636, 544, 268, 556, 410, 188, 398, 164, 236, 136, 628]\n",
            "Total even numbers: 52\n",
            "All prime numbers: [617, 709, 463, 467, 863, 677, 197, 607, 557, 859]\n",
            "Total prime numbers: 10\n"
          ]
        }
      ]
    },
    {
      "cell_type": "code",
      "source": [
        "# 4. Consider the following two sets, A and B, represenƟng scores of two teams in multiple matches. A = {34, 56, 78, 90} and B = {78, 45, 90, 23}\n",
        "# WAP to perform the following operaƟons using set funcƟons:\n",
        "A = {34, 56, 78, 90}\n",
        "B = {78, 45, 90, 23}\n",
        "# i. Find the unique scores achieved by both teams (union of sets)\n",
        "union_of_sets = A | B\n",
        "print(f\"Union of sets (unique scores): {union_of_sets}\")\n",
        "\n",
        "# ii. Identify the scores that are common to both teams (intersection of sets)\n",
        "intersection_of_sets = A & B\n",
        "print(f\"Intersection of sets (common scores): {intersection_of_sets}\")\n",
        "\n",
        "# iii. Find the scores that are exclusive to each team (symmetric difference)\n",
        "symmetric_difference = A ^ B\n",
        "print(f\"Symmetric difference (exclusive scores): {symmetric_difference}\")\n",
        "\n",
        "# iv. Check if the scores of team A are a subset of team B,\n",
        "# and if team B's scores are a superset of team A.\n",
        "is_A_subset_of_B = A.issubset(B)\n",
        "is_B_superset_of_A = B.issuperset(A)\n",
        "\n",
        "print(f\"Is A a subset of B? {is_A_subset_of_B}\")\n",
        "print(f\"Is B a superset of A? {is_B_superset_of_A}\")\n",
        "\n",
        "# v. Remove a specific score X (input by the user) from set A if it exists\n",
        "user_input = int(input(\"Enter a score to remove from set A: \"))\n",
        "\n",
        "if user_input in A:\n",
        "    A.remove(user_input)\n",
        "    print(f\"Score {user_input} removed from set A.\")\n",
        "else:\n",
        "    print(f\"Score {user_input} is not present in set A.\")\n"
      ],
      "metadata": {
        "colab": {
          "base_uri": "https://localhost:8080/"
        },
        "id": "1LCG2Lo-kyVO",
        "outputId": "82abe2c1-2b91-4dcf-ffbc-1c2f2ed7abd9"
      },
      "execution_count": 10,
      "outputs": [
        {
          "output_type": "stream",
          "name": "stdout",
          "text": [
            "Union of sets (unique scores): {34, 45, 78, 23, 56, 90}\n",
            "Intersection of sets (common scores): {90, 78}\n",
            "Symmetric difference (exclusive scores): {34, 45, 23, 56}\n",
            "Is A a subset of B? False\n",
            "Is B a superset of A? False\n",
            "Enter a score to remove from set A: 45\n",
            "Score 45 is not present in set A.\n"
          ]
        }
      ]
    },
    {
      "cell_type": "code",
      "source": [
        "# 5. Write a program to rename a key city to a location in the following dictionary.\n",
        "my_dict = {\n",
        "    \"name\": 'kelly',\n",
        "    \"age\":25,\n",
        "    \"city\": \"New York\",\n",
        "    \"salary\": 8000,\n",
        "}\n",
        "if 'city' in my_dict:\n",
        "    my_dict['location'] = my_dict.pop('city')\n",
        "print(my_dict)\n"
      ],
      "metadata": {
        "colab": {
          "base_uri": "https://localhost:8080/"
        },
        "id": "R_NTCGOEnB4L",
        "outputId": "8c5b0560-4c7f-438d-9c08-a600169b7584"
      },
      "execution_count": 11,
      "outputs": [
        {
          "output_type": "stream",
          "name": "stdout",
          "text": [
            "{'name': 'kelly', 'age': 25, 'salary': 8000, 'location': 'New York'}\n"
          ]
        }
      ]
    }
  ]
}